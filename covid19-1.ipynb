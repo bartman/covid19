{
 "cells": [
  {
   "cell_type": "code",
   "execution_count": null,
   "metadata": {},
   "outputs": [],
   "source": [
    "%load_ext autoreload\n",
    "%autoreload 2\n",
    "%matplotlib inline\n",
    "\n",
    "# imports and configs\n",
    "\n",
    "from datetime import datetime, date\n",
    "import pandas as pd\n",
    "import matplotlib.pyplot as plt\n",
    "import numpy as np\n",
    "import math\n",
    "import world_bank_data as wb\n",
    "import importlib\n",
    "\n",
    "# make plots a bit bigger\n",
    "plt.rcParams[\"figure.figsize\"] = [30, 15]\n",
    "\n",
    "# make cells wider\n",
    "# https://stackoverflow.com/questions/21971449/how-do-i-increase-the-cell-width-of-the-jupyter-ipython-notebook-in-my-browser\n",
    "from IPython.core.display import display, HTML\n",
    "display(HTML(\"<style>.container { width:100% !important; }</style>\"))\n",
    "\n",
    "# control how data is display in pandas\n",
    "# https://pandas.pydata.org/pandas-docs/stable/user_guide/options.html\n",
    "pd.options.display.max_rows = 20\n",
    "pd.options.display.expand_frame_repr = False"
   ]
  },
  {
   "cell_type": "code",
   "execution_count": null,
   "metadata": {},
   "outputs": [],
   "source": [
    "from covid19plot.data import importdata\n",
    "\n",
    "data = importdata()\n",
    "print(data.keys())\n",
    "#data.df\n"
   ]
  },
  {
   "cell_type": "code",
   "execution_count": null,
   "metadata": {
    "scrolled": false
   },
   "outputs": [],
   "source": [
    "from covid19plot.plot import countryplot\n",
    "plt.rcParams[\"figure.figsize\"] = [30, 15]\n",
    "\n",
    "fig = countryplot(data, ['Global', 'China', 'US', 'Canada'])\n",
    "\n",
    "fig.tight_layout(pad=2.0)\n",
    "fig.savefig('out/simple.png')\n",
    "plt.show()\n"
   ]
  },
  {
   "cell_type": "code",
   "execution_count": null,
   "metadata": {
    "scrolled": false
   },
   "outputs": [],
   "source": [
    "from covid19plot.plot import countryplot\n",
    "plt.rcParams[\"figure.figsize\"] = [30, 15]\n",
    "\n",
    "#print(df['Country/Region'].unique())\n",
    "countries = ['China', 'Korea, South', 'Italy', 'US', 'Canada', 'Poland']\n",
    "\n",
    "fig = countryplot(data, countries, showIncrease=True)\n",
    "\n",
    "fig.tight_layout(pad=2.0)\n",
    "fig.savefig('out/countries.png')\n",
    "plt.show()\n"
   ]
  },
  {
   "cell_type": "code",
   "execution_count": null,
   "metadata": {
    "scrolled": false
   },
   "outputs": [],
   "source": [
    "from covid19plot.plot import countryregionplot\n",
    "plt.rcParams[\"figure.figsize\"] = [30, 15]\n",
    "\n",
    "country = 'Canada'\n",
    "regions = ['Ontario', 'Quebec', 'Alberta', 'British Columbia', 'Manitoba', 'Saskatchewan']\n",
    "\n",
    "#cdf = df.loc[df['Country/Region'] == country]\n",
    "#regions = cdf['Province/State'].unique()\n",
    "#regions = regions[0:8]\n",
    "#print(regions)\n",
    "\n",
    "fig = countryregionplot(data, country, regions)\n",
    "\n",
    "fig.tight_layout(pad=2.0)\n",
    "fig.savefig('out/canada.png')\n",
    "plt.show()\n"
   ]
  },
  {
   "cell_type": "code",
   "execution_count": null,
   "metadata": {
    "scrolled": false
   },
   "outputs": [],
   "source": [
    "from covid19plot.plot import sinceplot\n",
    "plt.rcParams[\"figure.figsize\"] = [30, 20]\n",
    "\n",
    "# confirmed\n",
    "\n",
    "fig = sinceplot(data, logScale=False, dataColumn='Confirmed')\n",
    "fig.savefig('out/country-confirmed.png')\n",
    "\n",
    "fig = sinceplot(data, logScale=True, dataColumn='Confirmed')\n",
    "fig.savefig('out/country-confirmed-log.png')\n",
    "\n",
    "# deaths\n",
    "\n",
    "fig = sinceplot(data, logScale=False, dataColumn='Deaths')\n",
    "fig.savefig('out/country-deaths.png')\n",
    "\n",
    "fig = sinceplot(data, logScale=True, dataColumn='Deaths')\n",
    "fig.savefig('out/country-deaths-log.png')\n",
    "\n",
    "plt.show()"
   ]
  },
  {
   "cell_type": "code",
   "execution_count": null,
   "metadata": {},
   "outputs": [],
   "source": []
  }
 ],
 "metadata": {
  "kernelspec": {
   "display_name": "Python 3",
   "language": "python",
   "name": "python3"
  },
  "language_info": {
   "codemirror_mode": {
    "name": "ipython",
    "version": 3
   },
   "file_extension": ".py",
   "mimetype": "text/x-python",
   "name": "python",
   "nbconvert_exporter": "python",
   "pygments_lexer": "ipython3",
   "version": "3.5.3"
  }
 },
 "nbformat": 4,
 "nbformat_minor": 2
}
